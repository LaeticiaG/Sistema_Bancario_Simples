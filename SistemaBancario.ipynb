{
  "nbformat": 4,
  "nbformat_minor": 0,
  "metadata": {
    "colab": {
      "provenance": [],
      "authorship_tag": "ABX9TyNOBT+vUAZpk48MHBORB3yR",
      "include_colab_link": true
    },
    "kernelspec": {
      "name": "python3",
      "display_name": "Python 3"
    },
    "language_info": {
      "name": "python"
    }
  },
  "cells": [
    {
      "cell_type": "markdown",
      "metadata": {
        "id": "view-in-github",
        "colab_type": "text"
      },
      "source": [
        "<a href=\"https://colab.research.google.com/github/LaeticiaG/Sistema_Bancario_Simples/blob/main/SistemaBancario.ipynb\" target=\"_parent\"><img src=\"https://colab.research.google.com/assets/colab-badge.svg\" alt=\"Open In Colab\"/></a>"
      ]
    },
    {
      "cell_type": "code",
      "execution_count": 4,
      "metadata": {
        "colab": {
          "base_uri": "https://localhost:8080/"
        },
        "id": "6PzKnvesYMEZ",
        "outputId": "26799c49-d8ad-45b9-89e5-e706d23d72b0"
      },
      "outputs": [
        {
          "output_type": "stream",
          "name": "stdout",
          "text": [
            "\n",
            "\n",
            "[0]Sair\n",
            "[1]Depositar\n",
            "[2]Sacar\n",
            "[3]Extrato\n",
            "\n",
            "=> 3\n",
            "================EXATRATO================\n",
            "Não foram realizadas movimentações.\n",
            "Saldo: R$ 0.00\n",
            "========================================\n",
            "\n",
            "\n",
            "[0]Sair\n",
            "[1]Depositar\n",
            "[2]Sacar\n",
            "[3]Extrato\n",
            "\n",
            "=> 0\n",
            "Sessão encerrada!\n"
          ]
        }
      ],
      "source": [
        "menu = \"\"\"\n",
        "\n",
        "[0]Sair\n",
        "[1]Depositar\n",
        "[2]Sacar\n",
        "[3]Extrato\n",
        "\n",
        "=> \"\"\"\n",
        "\n",
        "saldo = 0\n",
        "limite = 500\n",
        "extrato = \"\"\n",
        "n_saques = 0\n",
        "L_saques = 3\n",
        "saque = 0\n",
        "\n",
        "\n",
        "while True:\n",
        "\n",
        "  opcao = input (menu)\n",
        "\n",
        "  if opcao ==\"0\":\n",
        "    print (\"Sessão encerrada!\")\n",
        "    break\n",
        "\n",
        "  elif opcao == \"1\":\n",
        "    valor = float(input(\"Qual o valor do depósito?\"))\n",
        "\n",
        "    if valor  > 0:\n",
        "       saldo += valor\n",
        "       extrato += f\"Depósito: R$ {valor: .2f}\\n\"\n",
        "       print (saldo)\n",
        "\n",
        "    else :\n",
        "      print (\"Esse valor não é válido, por favor digite novamente\")\n",
        "\n",
        "  elif opcao ==\"2\":\n",
        "    Saque = float(input(\"Qual o valor do saque?\"))\n",
        "\n",
        "    excede_saque = n_saques >= L_saques\n",
        "\n",
        "    excede_limite = Saque > limite\n",
        "\n",
        "    excede_saldo = Saque > saldo\n",
        "\n",
        "    if excede_saldo:\n",
        "      print (\"Saldo insuficiente! Tente novamente utilizando outro valor\")\n",
        "\n",
        "    elif excede_limite:\n",
        "      print(\"Valor do saque excede o limite! Tente novamente com outro valor\")\n",
        "\n",
        "    elif excede_saque:\n",
        "      print (\"Número de saques excedido! Tente novamente mais tarde\")\n",
        "\n",
        "    elif Saque >0:\n",
        "      saldo -= Saque\n",
        "      extrato += f\"Saque: R$ {valor: .2f}\\n\"\n",
        "      n_saques += 1\n",
        "      print (saldo)\n",
        "\n",
        "    else:\n",
        "      print (\"Operação inválida\")\n",
        "\n",
        "\n",
        "\n",
        "  elif opcao ==\"3\":\n",
        "    print (\"EXATRATO\".center(40, '='))\n",
        "    print (\"Não foram realizadas movimentações.\" if not extrato else extrato)\n",
        "    print (f\"Saldo: R$ {saldo:.2f}\")\n",
        "    print (\"\".center(40, '='))\n",
        "\n",
        "  else:\n",
        "    print (\"Operação inválida\")\n",
        "\n"
      ]
    }
  ]
}